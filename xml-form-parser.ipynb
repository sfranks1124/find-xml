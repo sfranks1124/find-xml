{
 "cells": [
  {
   "cell_type": "code",
   "execution_count": 7,
   "metadata": {
    "collapsed": true
   },
   "outputs": [],
   "source": [
    "#!/usr/bin/python\n",
    "\n",
    "import xml.sax\n",
    "\n",
    "class FormHandler( xml.sax.ContentHandler ):\n",
    "   def __init__(self):\n",
    "      self.CurrentData = \"\"\n",
    "      self.dataElement = \"\"\n",
    "      self.format = \"\"\n",
    "      self.year = \"\"\n",
    "      self.rating = \"\"\n",
    "      self.stars = \"\"\n",
    "      self.description = \"\"\n",
    "\n",
    "   # Call when an element starts\n",
    "   def startElement(self, tag, attributes):\n",
    "      self.CurrentData = tag\n",
    "      if tag == \"movie\":\n",
    "         print \"*****Movie*****\"\n",
    "         title = attributes[\"title\"]\n",
    "         print \"Title:\", title\n",
    "\n",
    "   # Call when an elements ends\n",
    "   def endElement(self, tag):\n",
    "      if self.CurrentData == \"type\":\n",
    "         print \"dataElement:\", self.type\n",
    "      elif self.CurrentData == \"format\":\n",
    "         print \"Format:\", self.format\n",
    "      elif self.CurrentData == \"year\":\n",
    "         print \"Year:\", self.year\n",
    "      elif self.CurrentData == \"rating\":\n",
    "         print \"Rating:\", self.rating\n",
    "      elif self.CurrentData == \"stars\":\n",
    "         print \"Stars:\", self.stars\n",
    "      elif self.CurrentData == \"description\":\n",
    "         print \"Description:\", self.description\n",
    "      self.CurrentData = \"\"\n",
    "\n",
    "   # Call when a character is read\n",
    "   def characters(self, content):\n",
    "      if self.CurrentData == \"dataElement\":\n",
    "         self.dataElement = content\n",
    "      elif self.CurrentData == \"format\":\n",
    "         self.format = content\n",
    "      elif self.CurrentData == \"year\":\n",
    "         self.year = content\n",
    "      elif self.CurrentData == \"rating\":\n",
    "         self.rating = content\n",
    "      elif self.CurrentData == \"stars\":\n",
    "         self.stars = content\n",
    "      elif self.CurrentData == \"description\":\n",
    "         self.description = content\n",
    "  \n",
    "if ( __name__ == \"__main__\"):\n",
    "   \n",
    "   # create an XMLReader\n",
    "   parser = xml.sax.make_parser()\n",
    "   # turn off namepsaces\n",
    "   parser.setFeature(xml.sax.handler.feature_namespaces, 0)\n",
    "\n",
    "   # override the default ContextHandler\n",
    "   Handler = FormHandler()\n",
    "   parser.setContentHandler( Handler )\n",
    "   \n",
    "   parser.parse(\"xml-form.xml\")"
   ]
  },
  {
   "cell_type": "code",
   "execution_count": null,
   "metadata": {
    "collapsed": true
   },
   "outputs": [],
   "source": []
  }
 ],
 "metadata": {
  "kernelspec": {
   "display_name": "Python 2",
   "language": "python",
   "name": "python2"
  },
  "language_info": {
   "codemirror_mode": {
    "name": "ipython",
    "version": 2
   },
   "file_extension": ".py",
   "mimetype": "text/x-python",
   "name": "python",
   "nbconvert_exporter": "python",
   "pygments_lexer": "ipython2",
   "version": "2.7.11"
  }
 },
 "nbformat": 4,
 "nbformat_minor": 0
}
