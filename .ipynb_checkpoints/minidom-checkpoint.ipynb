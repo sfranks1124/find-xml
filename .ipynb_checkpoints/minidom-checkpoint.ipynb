{
 "cells": [
  {
   "cell_type": "code",
   "execution_count": null,
   "metadata": {
    "collapsed": true
   },
   "outputs": [],
   "source": [
    "#!/usr/bin/python\n",
    "\n",
    "from xml.dom.minidom import parse\n",
    "import xml.dom.minidom\n",
    "\n",
    "# Open XML document using minidom parser\n",
    "DOMTree = xml.dom.minidom.parse(\"movies.xml\")\n",
    "collection = DOMTree.documentElement\n",
    "if collection.hasAttribute(\"shelf\"):\n",
    "   print \"Root element : %s\" % collection.getAttribute(\"shelf\")\n",
    "\n",
    "# Get all the movies in the collection\n",
    "movies = collection.getElementsByTagName(\"movie\")\n",
    "\n",
    "# Print detail of each movie.\n",
    "for movie in movies:\n",
    "   print \"*****Movie*****\"\n",
    "   if movie.hasAttribute(\"title\"):\n",
    "      print \"Title: %s\" % movie.getAttribute(\"title\")\n",
    "\n",
    "   type = movie.getElementsByTagName('type')[0]\n",
    "   print \"Type: %s\" % type.childNodes[0].data\n",
    "   format = movie.getElementsByTagName('format')[0]\n",
    "   print \"Format: %s\" % format.childNodes[0].data\n",
    "   rating = movie.getElementsByTagName('rating')[0]\n",
    "   print \"Rating: %s\" % rating.childNodes[0].data\n",
    "   description = movie.getElementsByTagName('description')[0]\n",
    "   print \"Description: %s\" % description.childNodes[0].data"
   ]
  }
 ],
 "metadata": {
  "kernelspec": {
   "display_name": "Python 2",
   "language": "python",
   "name": "python2"
  }
 },
 "nbformat": 4,
 "nbformat_minor": 0
}
