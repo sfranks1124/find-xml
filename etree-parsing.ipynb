{
 "cells": [
  {
   "cell_type": "code",
   "execution_count": 2,
   "metadata": {
    "collapsed": false
   },
   "outputs": [],
   "source": [
    "import xml.etree.ElementTree as ET\n",
    "tree = ET.parse('xml-form.xml')\n",
    "#df = pd.DataFrame(columns=('id', 'name'))\n",
    "root = tree.getroot()\n"
   ]
  },
  {
   "cell_type": "code",
   "execution_count": 3,
   "metadata": {
    "collapsed": false
   },
   "outputs": [
    {
     "data": {
      "text/plain": [
       "'FormsXML'"
      ]
     },
     "execution_count": 3,
     "metadata": {},
     "output_type": "execute_result"
    }
   ],
   "source": [
    "root.tag"
   ]
  },
  {
   "cell_type": "code",
   "execution_count": 4,
   "metadata": {
    "collapsed": false
   },
   "outputs": [
    {
     "data": {
      "text/plain": [
       "{}"
      ]
     },
     "execution_count": 4,
     "metadata": {},
     "output_type": "execute_result"
    }
   ],
   "source": [
    "root.attrib"
   ]
  },
  {
   "cell_type": "code",
   "execution_count": 5,
   "metadata": {
    "collapsed": false
   },
   "outputs": [
    {
     "name": "stdout",
     "output_type": "stream",
     "text": [
      "printJob {'name': '_TransactionPrint'}\n"
     ]
    }
   ],
   "source": [
    "for child in root:\n",
    "    print child.tag, child.attrib"
   ]
  },
  {
   "cell_type": "code",
   "execution_count": 6,
   "metadata": {
    "collapsed": false
   },
   "outputs": [
    {
     "name": "stdout",
     "output_type": "stream",
     "text": [
      "{'endIteration': '1', 'itemID': 'pB32FD2EE18254F0C895E5761F6EED564', 'name': 'Policy', 'startIteration': '1'}\n",
      "{'endIteration': '1', 'itemID': 'l7FCA95B848FC4CAE94B4ADB0A1609796', 'name': 'Line', 'startIteration': '1'}\n",
      "{'endIteration': '2', 'itemID': 'r06F7875C233343B3A563411B2461B0C6', 'name': 'Risk', 'startIteration': '1'}\n",
      "{'endIteration': '2', 'itemID': 'c5E1F73DFA17842E092E56CDC5F70D1FB', 'name': 'CovCollision', 'startIteration': '1'}\n",
      "{'endIteration': '2', 'itemID': 'cDFFDF418F59641C886B0D885E2C11071', 'name': 'CovLiability', 'startIteration': '1'}\n",
      "{'endIteration': '2', 'itemID': 'cE4A2EF9158BE4DD2A300E2BE93D9B81F', 'name': 'CovTowing', 'startIteration': '1'}\n",
      "{'endIteration': '2', 'itemID': 'rC50C0CADE64347DBA064B434C4125CBB', 'name': 'RiskVehicle', 'startIteration': '1'}\n",
      "{'endIteration': '2', 'itemID': 'c3342D07E1D404B7CBB28AD91CFE43106', 'name': 'CovMedical', 'startIteration': '1'}\n",
      "{'endIteration': '2', 'itemID': 'cC2AF467E4FFC4825B3943BEA133EABF5', 'name': 'CovOTC', 'startIteration': '1'}\n",
      "{'endIteration': '2', 'itemID': 'r87EC6FDE1BB341958ED13FA1BCF93991', 'name': 'RiskCommercialAuto', 'startIteration': '1'}\n",
      "{'endIteration': '2', 'itemID': 'c06845150B5374CA381C4197AC45475A0', 'name': 'CovPropertyProtection', 'startIteration': '1'}\n",
      "{'endIteration': '1', 'itemID': 'pB32FD2EE18254F0C895E5761F6EED564', 'name': 'Policy', 'startIteration': '1'}\n",
      "{'endIteration': '1', 'itemID': 'l41399B75A7C34933951576D6AA45C634', 'name': 'LineState', 'startIteration': '1'}\n",
      "{'endIteration': '1', 'itemID': 'cEC148069171F4B8D86ED5A8AF1D5A9E7', 'name': 'CovHiredAndBorrowedLiability', 'startIteration': '1'}\n",
      "{'endIteration': '1', 'itemID': 'c66DC91656CAA4A74A031D855E263CCEC', 'name': 'CovHiredAndBorrowedCollision', 'startIteration': '1'}\n",
      "{'endIteration': '1', 'itemID': 'cE4C317D00DC649789DB4785CABBE19A6', 'name': 'CovHiredAndBorrowedOTC', 'startIteration': '1'}\n",
      "{'endIteration': '1', 'itemID': 'r8523D03CB5424626B2FF1C70DD5C72C7', 'name': 'RiskHiredAndBorrowedLiability', 'startIteration': '1'}\n",
      "{'endIteration': '1', 'itemID': 'r8BEFE70C67E54A27A338AAF836F15658', 'name': 'RiskHiredAndBorrowedPhysicalDamage', 'startIteration': '1'}\n",
      "{'endIteration': '1', 'itemID': 'pB32FD2EE18254F0C895E5761F6EED564', 'name': 'Policy', 'startIteration': '1'}\n",
      "{'endIteration': '1', 'itemID': 'aB5D0A53693EF4BCABF2BDD7B221752FD', 'name': 'Account', 'startIteration': '1'}\n",
      "{'endIteration': '1', 'itemID': 'l7FCA95B848FC4CAE94B4ADB0A1609796', 'name': 'Line', 'startIteration': '1'}\n",
      "{'endIteration': '1', 'itemID': 'aC3BC72E45A1E482380889E4D6672577F', 'name': 'Agency', 'startIteration': '1'}\n",
      "{'endIteration': '1', 'itemID': 'c51F7C8DC0AEA44D3B9E1A687ABD1F081', 'name': 'Carrier', 'startIteration': '1'}\n",
      "{'endIteration': '1', 'itemID': 'cA4DE71F4DECD4362AA6883FC4D182B49', 'name': 'CovNonOwnedAutoLiability', 'startIteration': '1'}\n",
      "{'endIteration': '1', 'itemID': 'cD75840B2A51F44D39445CD5A50159A68', 'name': 'CovPolicyMinimum', 'startIteration': '1'}\n",
      "{'endIteration': '1', 'itemID': 'rB90A559DB1224C4A9EE1F4EBA8497C25', 'name': 'ExtDefaults', 'startIteration': '1'}\n",
      "{'endIteration': '1', 'itemID': 'l41399B75A7C34933951576D6AA45C634', 'name': 'LineState', 'startIteration': '1'}\n",
      "{'endIteration': '1', 'itemID': 'rED2398AB26E84D289F1BC29838BECD09', 'name': 'RiskNonOwnedAuto', 'startIteration': '1'}\n",
      "{'endIteration': '1', 'itemID': 'r06F7875C233343B3A563411B2461B0C6', 'name': 'Risk', 'startIteration': '1'}\n",
      "{'endIteration': '1', 'itemID': 'dAEE5F19161B3430F8585FA92AA6D4B84', 'name': 'data', 'startIteration': '1'}\n",
      "{'endIteration': '1', 'itemID': 'pB32FD2EE18254F0C895E5761F6EED564', 'name': 'Policy', 'startIteration': '1'}\n",
      "{'endIteration': '1', 'itemID': 'aB5D0A53693EF4BCABF2BDD7B221752FD', 'name': 'Account', 'startIteration': '1'}\n",
      "{'endIteration': '1', 'itemID': 'r06F7875C233343B3A563411B2461B0C6', 'name': 'Risk', 'startIteration': '1'}\n",
      "{'endIteration': '1', 'itemID': 'l7FCA95B848FC4CAE94B4ADB0A1609796', 'name': 'Line', 'startIteration': '1'}\n",
      "{'endIteration': '1', 'itemID': 'dAEE5F19161B3430F8585FA92AA6D4B84', 'name': 'data', 'startIteration': '1'}\n",
      "{'endIteration': '1', 'itemID': 'dAEE5F19161B3430F8585FA92AA6D4B84', 'name': 'data', 'startIteration': '1'}\n",
      "{'endIteration': '1', 'itemID': 'pB32FD2EE18254F0C895E5761F6EED564', 'name': 'Policy', 'startIteration': '1'}\n",
      "{'endIteration': '1', 'itemID': 'aB5D0A53693EF4BCABF2BDD7B221752FD', 'name': 'Account', 'startIteration': '1'}\n",
      "{'endIteration': '1', 'itemID': 'l41399B75A7C34933951576D6AA45C634', 'name': 'LineState', 'startIteration': '1'}\n",
      "{'endIteration': '1', 'itemID': 'pB32FD2EE18254F0C895E5761F6EED564', 'name': 'Policy', 'startIteration': '1'}\n",
      "{'endIteration': '1', 'itemID': 'aB5D0A53693EF4BCABF2BDD7B221752FD', 'name': 'Account', 'startIteration': '1'}\n",
      "{'endIteration': '2', 'itemID': 'l7FCA95B848FC4CAE94B4ADB0A1609796', 'name': 'Line', 'startIteration': '1'}\n",
      "{'endIteration': '1', 'itemID': 'aC3BC72E45A1E482380889E4D6672577F', 'name': 'Agency', 'startIteration': '1'}\n",
      "{'endIteration': '1', 'itemID': 'c51F7C8DC0AEA44D3B9E1A687ABD1F081', 'name': 'Carrier', 'startIteration': '1'}\n",
      "{'endIteration': '1', 'itemID': 'dAEE5F19161B3430F8585FA92AA6D4B84', 'name': 'data', 'startIteration': '1'}\n",
      "{'endIteration': '1', 'itemID': 'pB32FD2EE18254F0C895E5761F6EED564', 'name': 'Policy', 'startIteration': '1'}\n",
      "{'endIteration': '1', 'itemID': 'aB5D0A53693EF4BCABF2BDD7B221752FD', 'name': 'Account', 'startIteration': '1'}\n",
      "{'endIteration': '1', 'itemID': 'p0E955AA5EF314968A9821E26150A2136', 'name': 'printDoc', 'startIteration': '1'}\n",
      "{'endIteration': '2', 'itemID': 'p7D98AF3218EC460DA23C1598837440AF', 'name': 'printDoc', 'startIteration': '2'}\n",
      "{'endIteration': '3', 'itemID': 'p327F0801BE6D441C8BEF4D060C83243C', 'name': 'printDoc', 'startIteration': '3'}\n",
      "{'endIteration': '4', 'itemID': 'p59C2F2D9263A4849918FE3B9CF064AAC', 'name': 'printDoc', 'startIteration': '4'}\n",
      "{'endIteration': '5', 'itemID': 'pB59D204FD7914BBEB2FAE5CCAB160684', 'name': 'printDoc', 'startIteration': '5'}\n",
      "{'endIteration': '6', 'itemID': 'p867E4BB03D704E2792973292FCF64F76', 'name': 'printDoc', 'startIteration': '6'}\n",
      "{'endIteration': '7', 'itemID': 'p6E5D1F40CD2E487F8BC473F0BBD4C4A6', 'name': 'printDoc', 'startIteration': '7'}\n",
      "{'endIteration': '8', 'itemID': 'p8427D78B600644E1A57F71AC91BB813B', 'name': 'printDoc', 'startIteration': '8'}\n",
      "{'endIteration': '9', 'itemID': 'p7BD7712CD18A40FA8CACE3A6137897C9', 'name': 'printDoc', 'startIteration': '9'}\n",
      "{'endIteration': '10', 'itemID': 'p3E6F0E73B95F473AB38957B133083701', 'name': 'printDoc', 'startIteration': '10'}\n",
      "{'endIteration': '11', 'itemID': 'pC8E6EFB8D697427580924044599F2C36', 'name': 'printDoc', 'startIteration': '11'}\n",
      "{'endIteration': '12', 'itemID': 'p07865908323B4F25A36E33F103AF58EA', 'name': 'printDoc', 'startIteration': '12'}\n",
      "{'endIteration': '13', 'itemID': 'p948AE6DF91A545C0BF6E4EDD911F544D', 'name': 'printDoc', 'startIteration': '13'}\n",
      "{'endIteration': '14', 'itemID': 'p1B09B6C9572949F49C201585F3BAF784', 'name': 'printDoc', 'startIteration': '14'}\n",
      "{'endIteration': '1', 'itemID': 'dAEE5F19161B3430F8585FA92AA6D4B84', 'name': 'data', 'startIteration': '1'}\n",
      "{'endIteration': '1', 'itemID': 'dAEE5F19161B3430F8585FA92AA6D4B84', 'name': 'data', 'startIteration': '1'}\n",
      "{'endIteration': '1', 'itemID': 'dAEE5F19161B3430F8585FA92AA6D4B84', 'name': 'data', 'startIteration': '1'}\n",
      "{'endIteration': '1', 'itemID': 'dAEE5F19161B3430F8585FA92AA6D4B84', 'name': 'data', 'startIteration': '1'}\n"
     ]
    }
   ],
   "source": [
    "for group in root.iter('group'):\n",
    "    print group.attrib\n",
    "    "
   ]
  },
  {
   "cell_type": "code",
   "execution_count": null,
   "metadata": {
    "collapsed": false
   },
   "outputs": [],
   "source": [
    "#for group in root.iter('dataElement'): works\n",
    " #   print group.attrib"
   ]
  },
  {
   "cell_type": "code",
   "execution_count": null,
   "metadata": {
    "collapsed": true
   },
   "outputs": [],
   "source": []
  }
 ],
 "metadata": {
  "kernelspec": {
   "display_name": "Python 2",
   "language": "python",
   "name": "python2"
  },
  "language_info": {
   "codemirror_mode": {
    "name": "ipython",
    "version": 2
   },
   "file_extension": ".py",
   "mimetype": "text/x-python",
   "name": "python",
   "nbconvert_exporter": "python",
   "pygments_lexer": "ipython2",
   "version": "2.7.11"
  }
 },
 "nbformat": 4,
 "nbformat_minor": 0
}
